{
 "cells": [
  {
   "cell_type": "markdown",
   "metadata": {},
   "source": [
    "# Day 7"
   ]
  },
  {
   "cell_type": "code",
   "execution_count": 34,
   "metadata": {},
   "outputs": [],
   "source": [
    "import pandas as pd\n",
    "import numpy as np\n",
    "import re\n",
    "\n",
    "rules_file = open('input', mode='r')\n",
    "data = [rule.rstrip(\"\\n.\") for rule in rules_file.readlines()]"
   ]
  },
  {
   "cell_type": "code",
   "execution_count": 31,
   "metadata": {},
   "outputs": [],
   "source": [
    "dummy=\"\"\"light red bags contain 1 bright white bag, 2 muted yellow bags.\n",
    "dark orange bags contain 3 bright white bags, 4 muted yellow bags.\n",
    "bright white bags contain 1 shiny gold bag.\n",
    "muted yellow bags contain 2 shiny gold bags, 9 faded blue bags.\n",
    "shiny gold bags contain 1 dark olive bag, 2 vibrant plum bags.\n",
    "dark olive bags contain 3 faded blue bags, 4 dotted black bags.\n",
    "vibrant plum bags contain 5 faded blue bags, 6 dotted black bags.\n",
    "faded blue bags contain no other bags.\n",
    "dotted black bags contain no other bags.\"\"\"\n",
    "data = dummy.splitlines()"
   ]
  },
  {
   "cell_type": "code",
   "execution_count": 6,
   "metadata": {},
   "outputs": [],
   "source": [
    "dummy2=\"\"\"shiny gold bags contain 2 dark red bags.\n",
    "dark red bags contain 2 dark orange bags.\n",
    "dark orange bags contain 2 dark yellow bags.\n",
    "dark yellow bags contain 2 dark green bags.\n",
    "dark green bags contain 2 dark blue bags.\n",
    "dark blue bags contain 2 dark violet bags.\n",
    "dark violet bags contain no other bags.\"\"\"\n",
    "data = dummy2.splitlines()"
   ]
  },
  {
   "cell_type": "code",
   "execution_count": 35,
   "metadata": {},
   "outputs": [
    {
     "data": {
      "text/html": [
       "<div>\n",
       "<style scoped>\n",
       "    .dataframe tbody tr th:only-of-type {\n",
       "        vertical-align: middle;\n",
       "    }\n",
       "\n",
       "    .dataframe tbody tr th {\n",
       "        vertical-align: top;\n",
       "    }\n",
       "\n",
       "    .dataframe thead th {\n",
       "        text-align: right;\n",
       "    }\n",
       "</style>\n",
       "<table border=\"1\" class=\"dataframe\">\n",
       "  <thead>\n",
       "    <tr style=\"text-align: right;\">\n",
       "      <th></th>\n",
       "      <th>source</th>\n",
       "      <th>target</th>\n",
       "      <th>amount</th>\n",
       "    </tr>\n",
       "  </thead>\n",
       "  <tbody>\n",
       "    <tr>\n",
       "      <th>0</th>\n",
       "      <td>plaid fuchsia</td>\n",
       "      <td>light violet</td>\n",
       "      <td>5</td>\n",
       "    </tr>\n",
       "    <tr>\n",
       "      <th>1</th>\n",
       "      <td>plaid fuchsia</td>\n",
       "      <td>light yellow</td>\n",
       "      <td>1</td>\n",
       "    </tr>\n",
       "    <tr>\n",
       "      <th>2</th>\n",
       "      <td>striped aqua</td>\n",
       "      <td>striped teal</td>\n",
       "      <td>2</td>\n",
       "    </tr>\n",
       "    <tr>\n",
       "      <th>3</th>\n",
       "      <td>clear coral</td>\n",
       "      <td>plaid green</td>\n",
       "      <td>2</td>\n",
       "    </tr>\n",
       "    <tr>\n",
       "      <th>4</th>\n",
       "      <td>clear coral</td>\n",
       "      <td>mirrored gold</td>\n",
       "      <td>5</td>\n",
       "    </tr>\n",
       "    <tr>\n",
       "      <th>...</th>\n",
       "      <td>...</td>\n",
       "      <td>...</td>\n",
       "      <td>...</td>\n",
       "    </tr>\n",
       "    <tr>\n",
       "      <th>1414</th>\n",
       "      <td>muted lavender</td>\n",
       "      <td>drab brown</td>\n",
       "      <td>5</td>\n",
       "    </tr>\n",
       "    <tr>\n",
       "      <th>1415</th>\n",
       "      <td>muted lavender</td>\n",
       "      <td>clear bronze</td>\n",
       "      <td>5</td>\n",
       "    </tr>\n",
       "    <tr>\n",
       "      <th>1416</th>\n",
       "      <td>muted coral</td>\n",
       "      <td>clear red</td>\n",
       "      <td>4</td>\n",
       "    </tr>\n",
       "    <tr>\n",
       "      <th>1417</th>\n",
       "      <td>muted coral</td>\n",
       "      <td>vibrant maroon</td>\n",
       "      <td>3</td>\n",
       "    </tr>\n",
       "    <tr>\n",
       "      <th>1418</th>\n",
       "      <td>bright lavender</td>\n",
       "      <td>striped blue</td>\n",
       "      <td>4</td>\n",
       "    </tr>\n",
       "  </tbody>\n",
       "</table>\n",
       "<p>1419 rows × 3 columns</p>\n",
       "</div>"
      ],
      "text/plain": [
       "               source          target  amount\n",
       "0       plaid fuchsia    light violet       5\n",
       "1       plaid fuchsia    light yellow       1\n",
       "2        striped aqua    striped teal       2\n",
       "3         clear coral     plaid green       2\n",
       "4         clear coral   mirrored gold       5\n",
       "...               ...             ...     ...\n",
       "1414   muted lavender      drab brown       5\n",
       "1415   muted lavender    clear bronze       5\n",
       "1416      muted coral       clear red       4\n",
       "1417      muted coral  vibrant maroon       3\n",
       "1418  bright lavender    striped blue       4\n",
       "\n",
       "[1419 rows x 3 columns]"
      ]
     },
     "execution_count": 35,
     "metadata": {},
     "output_type": "execute_result"
    }
   ],
   "source": [
    "from_to=[]\n",
    "for idx,rule in enumerate(data):\n",
    "    rule_parsed = [ r.strip() for r in list(filter(None,re.split(\"(?:, )?bags?(?: contain)?.\", rule)))]\n",
    "    source = (rule_parsed[:1][0].strip())\n",
    "    for conn in rule_parsed[1:]: \n",
    "        if (conn != \"no other\"):\n",
    "            amount=conn[:1].strip()\n",
    "            target=(conn[1:].strip())\n",
    "            if 'bag' in target:\n",
    "                target = target[:-4]\n",
    "            from_to.append((source,target, amount))\n",
    "\n",
    "#d[0].append(rule_parsed[:1][0])\n",
    "#    print(rule_parsed[1:])\n",
    "#    d[1].append(len(rule_parsed[1:]))\n",
    "#    d[2].append(rule_parsed[1:])\n",
    "\n",
    "\n",
    "\n",
    "from_to\n",
    "df=pd.DataFrame(from_to, columns=['source','target','amount']).astype({'amount':'int'})\n",
    "\n",
    "all_bags= pd.concat([df['source'], df['target']]).unique()\n",
    "#print(all_bags)\n",
    "\n",
    "\n",
    "#df[df['target'].str.contains('bag')]\n",
    "df"
   ]
  },
  {
   "cell_type": "markdown",
   "metadata": {},
   "source": [
    "## Part 1"
   ]
  },
  {
   "cell_type": "code",
   "execution_count": 26,
   "metadata": {},
   "outputs": [
    {
     "name": "stdout",
     "output_type": "stream",
     "text": [
      "Part1: 0\n"
     ]
    }
   ],
   "source": [
    "start ='shiny gold'\n",
    "direct = pd.Series(start)\n",
    "old_len = 0\n",
    "amount = 0\n",
    "while old_len < len(direct):    \n",
    "    old_len = len(direct)\n",
    "    n = df[df['target'].isin(direct)]\n",
    "    direct = pd.Series(direct.append(n.source).unique())\n",
    "    \n",
    "print(\"Part1:\",len(direct[direct.ne(start)]))\n",
    "\n",
    "\n",
    "# x > 171"
   ]
  },
  {
   "cell_type": "markdown",
   "metadata": {},
   "source": [
    "## Part 2"
   ]
  },
  {
   "cell_type": "code",
   "execution_count": 36,
   "metadata": {},
   "outputs": [
    {
     "data": {
      "text/plain": [
       "80902"
      ]
     },
     "execution_count": 36,
     "metadata": {},
     "output_type": "execute_result"
    }
   ],
   "source": [
    "start ='shiny gold'\n",
    "\n",
    "def count_inside(nodes):\n",
    "    if len(nodes)== 0:\n",
    "        return 0\n",
    "    else:\n",
    "        count = 0\n",
    "        for [source,target,amount] in nodes.values:\n",
    "            count += amount + amount*count_inside(df[df['source']==target])\n",
    "        return count\n",
    "    \n",
    "count_inside(df[df['source']==start])\n"
   ]
  },
  {
   "cell_type": "code",
   "execution_count": null,
   "metadata": {},
   "outputs": [],
   "source": []
  }
 ],
 "metadata": {
  "kernelspec": {
   "display_name": "Python 3",
   "language": "python",
   "name": "python3"
  },
  "language_info": {
   "codemirror_mode": {
    "name": "ipython",
    "version": 3
   },
   "file_extension": ".py",
   "mimetype": "text/x-python",
   "name": "python",
   "nbconvert_exporter": "python",
   "pygments_lexer": "ipython3",
   "version": "3.8.3"
  },
  "toc": {
   "base_numbering": 1,
   "nav_menu": {},
   "number_sections": true,
   "sideBar": true,
   "skip_h1_title": false,
   "title_cell": "Table of Contents",
   "title_sidebar": "Contents",
   "toc_cell": false,
   "toc_position": {},
   "toc_section_display": true,
   "toc_window_display": false
  }
 },
 "nbformat": 4,
 "nbformat_minor": 4
}
