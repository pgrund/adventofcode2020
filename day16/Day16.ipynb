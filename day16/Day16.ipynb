{
 "cells": [
  {
   "cell_type": "markdown",
   "metadata": {},
   "source": [
    "# Day 16"
   ]
  },
  {
   "cell_type": "code",
   "execution_count": 1,
   "metadata": {},
   "outputs": [],
   "source": [
    "puzzle_file = open('input', mode='r')\n",
    "puzzle = puzzle_file.read()"
   ]
  },
  {
   "cell_type": "code",
   "execution_count": null,
   "metadata": {},
   "outputs": [],
   "source": [
    "puzzle=\"\"\"class: 1-3 or 5-7\n",
    "row: 6-11 or 33-44\n",
    "seat: 13-40 or 45-50\n",
    "seat again: 13-40 or 45-50\n",
    "\n",
    "your ticket:\n",
    "7,1,14\n",
    "\n",
    "nearby tickets:\n",
    "7,3,47\n",
    "40,4,50\n",
    "55,2,20\n",
    "38,6,12\"\"\""
   ]
  },
  {
   "cell_type": "code",
   "execution_count": null,
   "metadata": {},
   "outputs": [],
   "source": [
    "puzzle=\"\"\"class: 0-1 or 4-19\n",
    "row: 0-5 or 8-19\n",
    "seat: 0-13 or 16-19\n",
    "\n",
    "your ticket:\n",
    "11,12,13\n",
    "\n",
    "nearby tickets:\n",
    "3,9,18\n",
    "15,1,5\n",
    "5,14,9\n",
    "40,4,50\"\"\""
   ]
  },
  {
   "cell_type": "code",
   "execution_count": 13,
   "metadata": {},
   "outputs": [],
   "source": [
    "[rules, my, nearby] = [inp.splitlines() for inp in puzzle.split('\\n\\n')]\n",
    "\n",
    "def rule_to_array(string,step=1):\n",
    "    arr=[]\n",
    "    for val in string.split(' or '):\n",
    "        [start,end]=list(map(int,val.split('-')))\n",
    "        arr+=list(range(start,end+1,step))\n",
    "    return  arr\n",
    "\n",
    "rules = { key: val for key,val in [list(\n",
    "    map(lambda r: rule_to_array(r) if ' or ' in r else r,    \n",
    "        list(map(lambda s: s.strip(),rule.split(':'))\n",
    "    )))\n",
    "    for rule in rules]}\n",
    "my = list(map(int, my[1].split(',')))\n",
    "nearby = [list(map(int, ticket.split(','))) for ticket in nearby[1:]]"
   ]
  },
  {
   "cell_type": "markdown",
   "metadata": {},
   "source": [
    "## Part 1"
   ]
  },
  {
   "cell_type": "code",
   "execution_count": 14,
   "metadata": {},
   "outputs": [
    {
     "name": "stdout",
     "output_type": "stream",
     "text": [
      "27850\n"
     ]
    }
   ],
   "source": [
    "all_values = [r for ru in rules.values() for r in ru ]\n",
    "\n",
    "print(sum([n for t in nearby for n in t if n not in all_values ]))"
   ]
  },
  {
   "cell_type": "markdown",
   "metadata": {},
   "source": [
    "## Part 2\n",
    "\n",
    "- [x] filter out invalid nearby\n",
    "- [x] match field names\n",
    "- [ ] get departue fields value"
   ]
  },
  {
   "cell_type": "code",
   "execution_count": 15,
   "metadata": {},
   "outputs": [],
   "source": [
    "nearby = [t for t in nearby if all(n in all_values for n in t)]\n",
    "transposed_nearby = list(map(list, zip(*nearby)))\n",
    "fields = [(idx,val) for idx,val in enumerate([[name for name in rules if all(n in rules[name] for n in field)] for field in transposed_nearby ])]"
   ]
  },
  {
   "cell_type": "code",
   "execution_count": 28,
   "metadata": {},
   "outputs": [
    {
     "data": {
      "text/plain": [
       "491924517533"
      ]
     },
     "execution_count": 28,
     "metadata": {},
     "output_type": "execute_result"
    }
   ],
   "source": [
    "result=[None]*len(rules.keys())\n",
    "for name in sorted(fields,key=lambda item: len(item[1])):\n",
    "    filtered = [n for n in name[1] if not n in result]\n",
    "    if len(filtered)==1:\n",
    "        result[name[0]]=filtered[0]\n",
    "        \n",
    "departure_idxs=[ idx for idx,val in enumerate(result) if val.startswith('departure')]\n",
    "\n",
    "result = 1\n",
    "for x in [val for idx_n,val in enumerate(my) if idx_n in departure_idxs ]:\n",
    "    result = result * x \n",
    "\n",
    "result \n"
   ]
  },
  {
   "cell_type": "code",
   "execution_count": null,
   "metadata": {},
   "outputs": [],
   "source": []
  }
 ],
 "metadata": {
  "kernelspec": {
   "display_name": "Python 3",
   "language": "python",
   "name": "python3"
  },
  "language_info": {
   "codemirror_mode": {
    "name": "ipython",
    "version": 3
   },
   "file_extension": ".py",
   "mimetype": "text/x-python",
   "name": "python",
   "nbconvert_exporter": "python",
   "pygments_lexer": "ipython3",
   "version": "3.8.3"
  },
  "toc": {
   "base_numbering": 1,
   "nav_menu": {},
   "number_sections": true,
   "sideBar": true,
   "skip_h1_title": false,
   "title_cell": "Table of Contents",
   "title_sidebar": "Contents",
   "toc_cell": false,
   "toc_position": {},
   "toc_section_display": true,
   "toc_window_display": false
  }
 },
 "nbformat": 4,
 "nbformat_minor": 4
}
