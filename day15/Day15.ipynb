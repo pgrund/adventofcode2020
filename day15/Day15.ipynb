{
 "cells": [
  {
   "cell_type": "markdown",
   "metadata": {},
   "source": [
    "# Day 15"
   ]
  },
  {
   "cell_type": "code",
   "execution_count": 19,
   "metadata": {},
   "outputs": [],
   "source": [
    "import numpy as np"
   ]
  },
  {
   "cell_type": "code",
   "execution_count": 20,
   "metadata": {},
   "outputs": [],
   "source": [
    "data=np.array(\"\"\"11,18,0,20,1,7,16\"\"\".split(',')).astype(int)"
   ]
  },
  {
   "cell_type": "code",
   "execution_count": 21,
   "metadata": {},
   "outputs": [],
   "source": [
    "dummies=[\n",
    "    (\"0,3,6\", {2020:436,30000000:175594}),\n",
    "    (\"1,3,2\", {2020:1,30000000:2578}),\n",
    "    (\"2,1,3\",{2020:10,30000000:3544142}),\n",
    "    (\"1,2,3\", {2020:27,30000000:261214}),\n",
    "    (\"2,3,1\",{2020:78,30000000:6895259}),\n",
    "    (\"3,2,1\",{2020:438,30000000:18}),\n",
    "    (\"3,1,2\",{2020:1836,30000000:362})\n",
    "]\n"
   ]
  },
  {
   "cell_type": "code",
   "execution_count": 22,
   "metadata": {},
   "outputs": [
    {
     "data": {
      "text/plain": [
       "array([11, 18,  0, 20,  1,  7, 16])"
      ]
     },
     "execution_count": 22,
     "metadata": {},
     "output_type": "execute_result"
    }
   ],
   "source": [
    "data"
   ]
  },
  {
   "cell_type": "markdown",
   "metadata": {},
   "source": [
    "# Part 1"
   ]
  },
  {
   "cell_type": "code",
   "execution_count": 28,
   "metadata": {},
   "outputs": [
    {
     "data": {
      "text/plain": [
       "639"
      ]
     },
     "execution_count": 28,
     "metadata": {},
     "output_type": "execute_result"
    }
   ],
   "source": [
    "def part1(data):\n",
    "    memory =[(idx+1,val) for idx,val in enumerate(data)]\n",
    "    for idx in range(len(data)+1,2021):        \n",
    "        spoken_before = [ i for (i,last) in memory if last == memory[-1][1]] \n",
    "        if len(spoken_before) == 1 :\n",
    "            memory.append((idx,0))\n",
    "        else :\n",
    "            memory.append((idx,spoken_before[-1]-spoken_before[-2]))\n",
    "    return memory[-1][1]\n",
    "\n",
    "    \n",
    "part1(data)"
   ]
  },
  {
   "cell_type": "markdown",
   "metadata": {},
   "source": [
    "## Part 2"
   ]
  },
  {
   "cell_type": "code",
   "execution_count": 33,
   "metadata": {},
   "outputs": [],
   "source": [
    "def part2(data, nth=2020):\n",
    "    memory = {y:x+1 for (x,y) in enumerate(data[:-1])}\n",
    "    last = data[-1]\n",
    "\n",
    "    for turn in range(len(data),nth):    \n",
    "        [last, memory[last]] = [turn - memory[last] if last in memory else 0, turn]\n",
    "\n",
    "        if turn % 1000000 == 0:\n",
    "            print('.',end='',flush=True)\n",
    "\n",
    "    return last\n"
   ]
  },
  {
   "cell_type": "code",
   "execution_count": 31,
   "metadata": {},
   "outputs": [
    {
     "data": {
      "text/plain": [
       "639"
      ]
     },
     "execution_count": 31,
     "metadata": {},
     "output_type": "execute_result"
    }
   ],
   "source": [
    "part2(data,2020)#30000000)"
   ]
  },
  {
   "cell_type": "markdown",
   "metadata": {},
   "source": [
    "## testing"
   ]
  },
  {
   "cell_type": "code",
   "execution_count": 27,
   "metadata": {},
   "outputs": [
    {
     "name": "stdout",
     "output_type": "stream",
     "text": [
      "\n",
      "436 == 436\n",
      ".............................\n",
      "175594 == 175594\n",
      "\n",
      "1 == 1\n",
      ".............................\n",
      "2578 == 2578\n",
      "\n",
      "10 == 10\n",
      ".............................\n",
      "3544142 == 3544142\n",
      "\n",
      "27 == 27\n",
      ".............................\n",
      "261214 == 261214\n",
      "\n",
      "78 == 78\n",
      ".............................\n",
      "6895259 == 6895259\n",
      "\n",
      "438 == 438\n",
      ".............................\n",
      "18 == 18\n",
      "\n",
      "1836 == 1836\n",
      ".............................\n",
      "262 == 362\n"
     ]
    }
   ],
   "source": [
    "for dummy in dummies:\n",
    "    for n in dummy[1].keys():\n",
    "        print(\"\\n{} == {}\".format(dummy[1][n], part2(np.array(dummy[0].split(',')).astype(int),n)))"
   ]
  },
  {
   "cell_type": "code",
   "execution_count": null,
   "metadata": {},
   "outputs": [],
   "source": []
  }
 ],
 "metadata": {
  "kernelspec": {
   "display_name": "Python 3",
   "language": "python",
   "name": "python3"
  },
  "language_info": {
   "codemirror_mode": {
    "name": "ipython",
    "version": 3
   },
   "file_extension": ".py",
   "mimetype": "text/x-python",
   "name": "python",
   "nbconvert_exporter": "python",
   "pygments_lexer": "ipython3",
   "version": "3.8.3"
  },
  "toc": {
   "base_numbering": 1,
   "nav_menu": {},
   "number_sections": true,
   "sideBar": true,
   "skip_h1_title": false,
   "title_cell": "Table of Contents",
   "title_sidebar": "Contents",
   "toc_cell": false,
   "toc_position": {},
   "toc_section_display": true,
   "toc_window_display": false
  }
 },
 "nbformat": 4,
 "nbformat_minor": 4
}
