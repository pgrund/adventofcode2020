{
 "cells": [
  {
   "cell_type": "markdown",
   "metadata": {},
   "source": [
    "# Day 5"
   ]
  },
  {
   "cell_type": "code",
   "execution_count": 1,
   "metadata": {},
   "outputs": [],
   "source": [
    "import pandas as pd\n",
    "import numpy as np\n",
    "import re"
   ]
  },
  {
   "cell_type": "code",
   "execution_count": 85,
   "metadata": {},
   "outputs": [
    {
     "data": {
      "text/html": [
       "<div>\n",
       "<style scoped>\n",
       "    .dataframe tbody tr th:only-of-type {\n",
       "        vertical-align: middle;\n",
       "    }\n",
       "\n",
       "    .dataframe tbody tr th {\n",
       "        vertical-align: top;\n",
       "    }\n",
       "\n",
       "    .dataframe thead th {\n",
       "        text-align: right;\n",
       "    }\n",
       "</style>\n",
       "<table border=\"1\" class=\"dataframe\">\n",
       "  <thead>\n",
       "    <tr style=\"text-align: right;\">\n",
       "      <th></th>\n",
       "      <th>row</th>\n",
       "      <th>col</th>\n",
       "    </tr>\n",
       "  </thead>\n",
       "  <tbody>\n",
       "    <tr>\n",
       "      <th>0</th>\n",
       "      <td>FBBFFBB</td>\n",
       "      <td>LLL</td>\n",
       "    </tr>\n",
       "    <tr>\n",
       "      <th>1</th>\n",
       "      <td>FFBFFFB</td>\n",
       "      <td>RLL</td>\n",
       "    </tr>\n",
       "    <tr>\n",
       "      <th>2</th>\n",
       "      <td>FFBBBBF</td>\n",
       "      <td>RRL</td>\n",
       "    </tr>\n",
       "    <tr>\n",
       "      <th>3</th>\n",
       "      <td>FBFBBBB</td>\n",
       "      <td>RLL</td>\n",
       "    </tr>\n",
       "    <tr>\n",
       "      <th>4</th>\n",
       "      <td>BFBBBBF</td>\n",
       "      <td>LLR</td>\n",
       "    </tr>\n",
       "    <tr>\n",
       "      <th>...</th>\n",
       "      <td>...</td>\n",
       "      <td>...</td>\n",
       "    </tr>\n",
       "    <tr>\n",
       "      <th>841</th>\n",
       "      <td>BFBBFFF</td>\n",
       "      <td>RRL</td>\n",
       "    </tr>\n",
       "    <tr>\n",
       "      <th>842</th>\n",
       "      <td>FBFFBBB</td>\n",
       "      <td>LRL</td>\n",
       "    </tr>\n",
       "    <tr>\n",
       "      <th>843</th>\n",
       "      <td>FBFBBFF</td>\n",
       "      <td>LRR</td>\n",
       "    </tr>\n",
       "    <tr>\n",
       "      <th>844</th>\n",
       "      <td>FBFFBBF</td>\n",
       "      <td>RRL</td>\n",
       "    </tr>\n",
       "    <tr>\n",
       "      <th>845</th>\n",
       "      <td>BBFBFFB</td>\n",
       "      <td>RLL</td>\n",
       "    </tr>\n",
       "  </tbody>\n",
       "</table>\n",
       "<p>846 rows × 2 columns</p>\n",
       "</div>"
      ],
      "text/plain": [
       "         row  col\n",
       "0    FBBFFBB  LLL\n",
       "1    FFBFFFB  RLL\n",
       "2    FFBBBBF  RRL\n",
       "3    FBFBBBB  RLL\n",
       "4    BFBBBBF  LLR\n",
       "..       ...  ...\n",
       "841  BFBBFFF  RRL\n",
       "842  FBFFBBB  LRL\n",
       "843  FBFBBFF  LRR\n",
       "844  FBFFBBF  RRL\n",
       "845  BBFBFFB  RLL\n",
       "\n",
       "[846 rows x 2 columns]"
      ]
     },
     "execution_count": 85,
     "metadata": {},
     "output_type": "execute_result"
    }
   ],
   "source": [
    "seats_file = open('input',mode='r')\n",
    "\n",
    "row=[]\n",
    "col=[]\n",
    "for entry in [[seat[:7],seat[-3:]] for seat in seats_file.read().split('\\n')]:\n",
    "    row.append(entry[0])\n",
    "    col.append(entry[1])\n",
    "    \n",
    "seats=pd.DataFrame({'row':row, 'col':col})\n",
    "seats"
   ]
  },
  {
   "cell_type": "code",
   "execution_count": 81,
   "metadata": {},
   "outputs": [],
   "source": [
    "def lower(vals):\n",
    "    return[vals[0], vals[0]+(vals[1]-vals[0])//2]\n",
    "def upper(vals):\n",
    "    return[(vals[0]+vals[1])//2, vals[1]]\n",
    "\n",
    "calc_switch = {\n",
    "    'F': lower,\n",
    "    'B': upper,\n",
    "    'L': lower,\n",
    "    'R': upper\n",
    "}\n",
    "def calc_row(row, seat):\n",
    "    if seat==\"\" or len(row)==1:\n",
    "        return row[1]\n",
    "    else:\n",
    "        [start, end] = row\n",
    "        next_row = calc_switch[seat[:1]](row)\n",
    "        return calc_row(next_row, seat[1:])"
   ]
  },
  {
   "cell_type": "markdown",
   "metadata": {},
   "source": [
    "## Part 1"
   ]
  },
  {
   "cell_type": "markdown",
   "metadata": {},
   "source": [
    "### row\n",
    "**7** entries: range **0** to **127**\n",
    " - **F** : lower half (*front*)\n",
    " - **B** : upper half (*back*)\n",
    "\n",
    "### column\n",
    "**3** entries: range **0** to **7**\n",
    " - **L** : lower half\n",
    " - **R** : upper half\n",
    "\n",
    "### seatId\n",
    "multiply the row by 8, then add the column. In this example, the seat has ID `row * 8 + col = seatId`.\n",
    "\n",
    "\n",
    "examples\n",
    "- `BFFFBBFRRR`: row **70**, column **7**, seat ID **567**.\n",
    "- `FFFBBBFRRR`: row **14**, column **7**, seat ID **119**.\n",
    "- `BBFFBBFRLL`: row **102**, column **4**, seat ID **820**."
   ]
  },
  {
   "cell_type": "code",
   "execution_count": 82,
   "metadata": {},
   "outputs": [
    {
     "data": {
      "text/html": [
       "<div>\n",
       "<style scoped>\n",
       "    .dataframe tbody tr th:only-of-type {\n",
       "        vertical-align: middle;\n",
       "    }\n",
       "\n",
       "    .dataframe tbody tr th {\n",
       "        vertical-align: top;\n",
       "    }\n",
       "\n",
       "    .dataframe thead th {\n",
       "        text-align: right;\n",
       "    }\n",
       "</style>\n",
       "<table border=\"1\" class=\"dataframe\">\n",
       "  <thead>\n",
       "    <tr style=\"text-align: right;\">\n",
       "      <th></th>\n",
       "      <th>row</th>\n",
       "      <th>col</th>\n",
       "      <th>row_actual</th>\n",
       "      <th>col_actual</th>\n",
       "      <th>seat_actual</th>\n",
       "    </tr>\n",
       "  </thead>\n",
       "  <tbody>\n",
       "    <tr>\n",
       "      <th>0</th>\n",
       "      <td>BFFFBBF</td>\n",
       "      <td>RRR</td>\n",
       "      <td>70</td>\n",
       "      <td>7</td>\n",
       "      <td>567</td>\n",
       "    </tr>\n",
       "    <tr>\n",
       "      <th>1</th>\n",
       "      <td>FFFBBBF</td>\n",
       "      <td>RRR</td>\n",
       "      <td>14</td>\n",
       "      <td>7</td>\n",
       "      <td>119</td>\n",
       "    </tr>\n",
       "    <tr>\n",
       "      <th>2</th>\n",
       "      <td>BBFFBBF</td>\n",
       "      <td>RLL</td>\n",
       "      <td>102</td>\n",
       "      <td>4</td>\n",
       "      <td>820</td>\n",
       "    </tr>\n",
       "    <tr>\n",
       "      <th>3</th>\n",
       "      <td>FBFBBFF</td>\n",
       "      <td>RLR</td>\n",
       "      <td>44</td>\n",
       "      <td>5</td>\n",
       "      <td>357</td>\n",
       "    </tr>\n",
       "  </tbody>\n",
       "</table>\n",
       "</div>"
      ],
      "text/plain": [
       "       row  col  row_actual  col_actual  seat_actual\n",
       "0  BFFFBBF  RRR          70           7          567\n",
       "1  FFFBBBF  RRR          14           7          119\n",
       "2  BBFFBBF  RLL         102           4          820\n",
       "3  FBFBBFF  RLR          44           5          357"
      ]
     },
     "execution_count": 82,
     "metadata": {},
     "output_type": "execute_result"
    }
   ],
   "source": [
    "dummy_str=\"\"\"BFFFBBFRRR\n",
    "FFFBBBFRRR\n",
    "BBFFBBFRLL\n",
    "FBFBBFFRLR\"\"\"\n",
    "\n",
    "row=[]\n",
    "col=[]\n",
    "for entry in [[seat[:7],seat[-3:]] for seat in dummy_str.split('\\n')]:\n",
    "    row.append(entry[0])\n",
    "    col.append(entry[1])\n",
    "    \n",
    "dummy=pd.DataFrame({'row':row, 'col':col, 'row_actual':[70,14,102,44],'col_actual':[7,7,4,5],'seat_actual':[567,119,820,357]})\n",
    "\n",
    "dummy"
   ]
  },
  {
   "cell_type": "code",
   "execution_count": 83,
   "metadata": {},
   "outputs": [
    {
     "data": {
      "text/html": [
       "<div>\n",
       "<style scoped>\n",
       "    .dataframe tbody tr th:only-of-type {\n",
       "        vertical-align: middle;\n",
       "    }\n",
       "\n",
       "    .dataframe tbody tr th {\n",
       "        vertical-align: top;\n",
       "    }\n",
       "\n",
       "    .dataframe thead th {\n",
       "        text-align: right;\n",
       "    }\n",
       "</style>\n",
       "<table border=\"1\" class=\"dataframe\">\n",
       "  <thead>\n",
       "    <tr style=\"text-align: right;\">\n",
       "      <th></th>\n",
       "      <th>row</th>\n",
       "      <th>col</th>\n",
       "      <th>row_actual</th>\n",
       "      <th>col_actual</th>\n",
       "      <th>seat_actual</th>\n",
       "      <th>row_calc</th>\n",
       "      <th>col_calc</th>\n",
       "      <th>seat_calc</th>\n",
       "    </tr>\n",
       "  </thead>\n",
       "  <tbody>\n",
       "    <tr>\n",
       "      <th>0</th>\n",
       "      <td>BFFFBBF</td>\n",
       "      <td>RRR</td>\n",
       "      <td>70</td>\n",
       "      <td>7</td>\n",
       "      <td>567</td>\n",
       "      <td>70</td>\n",
       "      <td>7</td>\n",
       "      <td>567</td>\n",
       "    </tr>\n",
       "    <tr>\n",
       "      <th>1</th>\n",
       "      <td>FFFBBBF</td>\n",
       "      <td>RRR</td>\n",
       "      <td>14</td>\n",
       "      <td>7</td>\n",
       "      <td>119</td>\n",
       "      <td>14</td>\n",
       "      <td>7</td>\n",
       "      <td>119</td>\n",
       "    </tr>\n",
       "    <tr>\n",
       "      <th>2</th>\n",
       "      <td>BBFFBBF</td>\n",
       "      <td>RLL</td>\n",
       "      <td>102</td>\n",
       "      <td>4</td>\n",
       "      <td>820</td>\n",
       "      <td>102</td>\n",
       "      <td>4</td>\n",
       "      <td>820</td>\n",
       "    </tr>\n",
       "    <tr>\n",
       "      <th>3</th>\n",
       "      <td>FBFBBFF</td>\n",
       "      <td>RLR</td>\n",
       "      <td>44</td>\n",
       "      <td>5</td>\n",
       "      <td>357</td>\n",
       "      <td>44</td>\n",
       "      <td>5</td>\n",
       "      <td>357</td>\n",
       "    </tr>\n",
       "  </tbody>\n",
       "</table>\n",
       "</div>"
      ],
      "text/plain": [
       "       row  col  row_actual  col_actual  seat_actual  row_calc  col_calc  \\\n",
       "0  BFFFBBF  RRR          70           7          567        70         7   \n",
       "1  FFFBBBF  RRR          14           7          119        14         7   \n",
       "2  BBFFBBF  RLL         102           4          820       102         4   \n",
       "3  FBFBBFF  RLR          44           5          357        44         5   \n",
       "\n",
       "   seat_calc  \n",
       "0        567  \n",
       "1        119  \n",
       "2        820  \n",
       "3        357  "
      ]
     },
     "execution_count": 83,
     "metadata": {},
     "output_type": "execute_result"
    }
   ],
   "source": [
    "def run_calc(row):\n",
    "    row['row_calc'] = calc_row([0,127],row['row'])\n",
    "    row['col_calc'] = calc_row([0,7],row['col'])\n",
    "    row['seat_calc'] = row['row_calc']*8+row['col_calc']\n",
    "    return row\n",
    "\n",
    "dummy.apply(run_calc, axis=1)"
   ]
  },
  {
   "cell_type": "code",
   "execution_count": 87,
   "metadata": {},
   "outputs": [],
   "source": [
    "res=seats.apply(run_calc, axis=1)"
   ]
  },
  {
   "cell_type": "code",
   "execution_count": 89,
   "metadata": {},
   "outputs": [
    {
     "data": {
      "text/plain": [
       "858"
      ]
     },
     "execution_count": 89,
     "metadata": {},
     "output_type": "execute_result"
    }
   ],
   "source": [
    "res.seat_calc.max()"
   ]
  },
  {
   "cell_type": "markdown",
   "metadata": {},
   "source": [
    "## Part 2"
   ]
  },
  {
   "cell_type": "code",
   "execution_count": 106,
   "metadata": {},
   "outputs": [
    {
     "data": {
      "text/plain": [
       "98    557\n",
       "Name: seat_calc, dtype: int64"
      ]
     },
     "execution_count": 106,
     "metadata": {},
     "output_type": "execute_result"
    }
   ],
   "source": [
    "sorted = res.sort_values(by=['seat_calc'])\n",
    "sorted[(sorted['seat_calc']!= sorted['seat_calc'].min()) & (sorted.seat_calc - sorted.seat_calc.shift(1) != 1.0)].seat_calc -1"
   ]
  },
  {
   "cell_type": "code",
   "execution_count": null,
   "metadata": {},
   "outputs": [],
   "source": []
  }
 ],
 "metadata": {
  "kernelspec": {
   "display_name": "Python 3",
   "language": "python",
   "name": "python3"
  },
  "language_info": {
   "codemirror_mode": {
    "name": "ipython",
    "version": 3
   },
   "file_extension": ".py",
   "mimetype": "text/x-python",
   "name": "python",
   "nbconvert_exporter": "python",
   "pygments_lexer": "ipython3",
   "version": "3.8.3"
  },
  "toc": {
   "base_numbering": 1,
   "nav_menu": {},
   "number_sections": true,
   "sideBar": true,
   "skip_h1_title": false,
   "title_cell": "Table of Contents",
   "title_sidebar": "Contents",
   "toc_cell": false,
   "toc_position": {},
   "toc_section_display": true,
   "toc_window_display": false
  }
 },
 "nbformat": 4,
 "nbformat_minor": 4
}
